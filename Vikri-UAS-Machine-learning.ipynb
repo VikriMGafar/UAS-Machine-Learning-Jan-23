{
 "cells": [
  {
   "cell_type": "code",
   "execution_count": 5,
   "metadata": {},
   "outputs": [],
   "source": [
    "from gensim.summarization import summarize\n",
    "\n"
   ]
  },
  {
   "cell_type": "code",
   "execution_count": 24,
   "metadata": {},
   "outputs": [],
   "source": [
    "from bs4 import BeautifulSoup\n",
    "\n",
    "file1 = open(\"C:/Users/Vikri Muhammad Gafar/Documents/Kuliah/MAchine Learning/UAS/UAS-Machine-Learning-Jan-23/HTML File/01/Mercedes-AMG One smashes production car Nürburgring lap record _ evo.html\", encoding=\"utf8\")\n",
    "file2 = open(\"C:/Users/Vikri Muhammad Gafar/Documents/Kuliah/MAchine Learning/UAS/UAS-Machine-Learning-Jan-23/HTML File/02/Mercedes sign Mick Schumacher as reserve driver for the 2023 Formula 1 season, the F1 team announce - Eurosport.html\", encoding=\"utf8\")\n",
    "file3 = open(\"C:/Users/Vikri Muhammad Gafar/Documents/Kuliah/MAchine Learning/UAS/UAS-Machine-Learning-Jan-23/HTML File/03/Daniel Ricciardo Heads Back to Red Bull for 2023 F1 Season - Sports Illustrated.html\", encoding=\"utf8\")\n",
    "file4 = open(\"C:/Users/Vikri Muhammad Gafar/Documents/Kuliah/MAchine Learning/UAS/UAS-Machine-Learning-Jan-23/HTML File/04/Audi and Sauber confirm partnership from 2026 Formula 1 season _ F1 News.html\", encoding=\"utf8\")\n",
    "file5 = open(\"C:/Users/Vikri Muhammad Gafar/Documents/Kuliah/MAchine Learning/UAS/UAS-Machine-Learning-Jan-23/HTML File/05/Ken Block’s “Hoonitruck” 1977 Ford F-150 is a Lean, Mean, Twin Turbo AWD Machine - Garrett Motion.html\", encoding=\"utf8\")\n",
    "# C:\\Users\\Vikri Muhammad Gafar\\Documents\\Kuliah\\MAchine Learning\\UAS\\UAS-Machine-Learning-Jan-23\\HTML File\\01\\Mercedes-AMG One smashes production car Nürburgring lap record _ evo.html\n",
    "\n",
    "data1 = file1.read()\n",
    "data2 = file2.read()\n",
    "data3 = file3.read()\n",
    "data4 = file4.read()\n",
    "data5 = file5.read()\n",
    "cleantext1 = BeautifulSoup(data1, 'lxml').text.replace(\"\\xa0\", \" \").replace(\"\\n\", \" \")\n",
    "cleantext2 = BeautifulSoup(data2, 'lxml').text.replace(\"\\xa0\", \" \").replace(\"\\n\", \" \")\n",
    "cleantext3 = BeautifulSoup(data3, 'lxml').text.replace(\"\\xa0\", \" \").replace(\"\\n\", \" \")\n",
    "cleantext4 = BeautifulSoup(data4, 'lxml').text.replace(\"\\xa0\", \" \").replace(\"\\n\", \" \")\n",
    "cleantext5 = BeautifulSoup(data5, 'lxml').text.replace(\"\\xa0\", \" \").replace(\"\\n\", \" \")\n",
    "\n",
    "# print(cleantext5)"
   ]
  },
  {
   "cell_type": "code",
   "execution_count": 7,
   "metadata": {},
   "outputs": [
    {
     "data": {
      "text/plain": [
       "'As has already been well documented, the AMG One’s hybrid powertrain combines a 1.6-litre V6 engine derived directly from the Formula 1 program with three electric motors that together produce a peak power figure of 1048bhp, making it significantly more powerful than the previous GT2 RS record holder.This huge power figure is combined with a state of the art aero package that includes active aero elements around the nose, front wheel arches, rear diffuser and rear wing.'"
      ]
     },
     "execution_count": 7,
     "metadata": {},
     "output_type": "execute_result"
    }
   ],
   "source": [
    "# summary = summarize(cleantext)\n",
    "# summary = summarize(cleantext, ratio = 0.1)   # 10% rasio berita\n",
    "# summary = summarize(cleantext, ratio = 0.03)  # 3% rasio berita\n",
    "summary = summarize(cleantext1, word_count=100)  # maksimum kata\n",
    "\n",
    "\n",
    "summary"
   ]
  },
  {
   "attachments": {},
   "cell_type": "markdown",
   "metadata": {},
   "source": [
    "# Gensim"
   ]
  },
  {
   "cell_type": "code",
   "execution_count": 8,
   "metadata": {},
   "outputs": [
    {
     "name": "stdout",
     "output_type": "stream",
     "text": [
      "['amg', 'hypercar', 'hypercars', 'cars', 'dec', 'units', 'unit', 'mercedes', 'engineering', 'engines', 'production car', 'time', 'times', 'road', 'roads', 'lap record', 'extreme', 'extremely', 'powerful', 'elements', 'aero package', 'power figure', 'generated', 'generations', 'generator', 'generation', 'project', 'projects', 'mounted', 'completed', 'completely', 'complete', 'figures', 'chiron', 'engine derived directly', 'mph', 'battery', 'later', 'bhp making', 'new', 'track', 'voltage', 'designs', 'design', 'designed', 'speed', 'powertrains', 'arches rear', 'aston', 'wheel', 'wheels', 'future', 'racing', 'race', 'performance', 'active', 'lateral roll', 'jan', 'driven', 'cell', 'cells', 'long', 'electrically', 'reduce', 'prove', 'proving', 'block', 'hybrid powertrain', 'martin', 'evo', 'electric motors', 'exhaust', 'maro', 'halo', 'arch', 'analogue', 'motor', 'motoring', 'setup', 'nevera', 'maximum', 'sport', 'sports', 'carbonfibre', 'marks', 'mark', 'naca', 'catalytic', 'coupes', 'outfit', 'forged', 'forge', 'today', 'emissions', 'thousand', 'thousands', 'percent', 'carbon', 'certainly', 'developed', 'development', 'petrol', 'works', 'working', 'near', 'level reduces', 'damper', 'dampers', 'gives', 'giving', 'alfa', 'set', 'settings', 'best', 'free', 'hybrids', 'cooling', 'cool', 'subscriber', 'fast', 'single', 'dies aged', 'brand eventually', 'supercars', 'supercar', 'valkyrie', 'moers', 'flaps', 'engel', 'driving', 'drive', 'gearbox', 'specification', 'specific', 'naturally', 'nature', 'highly', 'tobias', 'air', 'huge', 'current']\n",
      "\n",
      "\n",
      "gensim top 5 keywords :\n",
      "amg\n",
      "hypercar\n",
      "hypercars\n",
      "cars\n",
      "dec\n"
     ]
    }
   ],
   "source": [
    "from gensim.summarization import keywords\n",
    "\n",
    "gensim_keywords = keywords(cleantext1).split(\"\\n\")\n",
    "# gensim_keywords = keywords(cleantext2).split(\"\\n\")\n",
    "# gensim_keywords = keywords(cleantext3).split(\"\\n\")\n",
    "# gensim_keywords = keywords(cleantext4).split(\"\\n\")\n",
    "# gensim_keywords = keywords(cleantext5).split(\"\\n\")\n",
    "\n",
    "print(gensim_keywords)\n",
    "\n",
    "print(\"\\n\\ngensim top 5 keywords :\")\n",
    "\n",
    "for i in range(5):\n",
    "    print(gensim_keywords[i])\n",
    "\n",
    "# print(keywords(cleantext1))\n"
   ]
  },
  {
   "attachments": {},
   "cell_type": "markdown",
   "metadata": {},
   "source": [
    "# yake\n",
    "\n",
    "ada di jurnal berikut\n",
    "\n",
    "https://jurnal.stts.edu/index.php/INSYST/article/view/255/139"
   ]
  },
  {
   "cell_type": "code",
   "execution_count": 9,
   "metadata": {},
   "outputs": [
    {
     "name": "stdout",
     "output_type": "stream",
     "text": [
      "result \n",
      "\n",
      "[('Aston Martin', 0.0025968603936561492), ('AMG', 0.004038723620024365), ('Aston Martin Valkyrie', 0.004161996427903687), ('car Nürburgring lap', 0.0047203631079984), ('Nürburgring lap record', 0.005224974336299258), ('smashes production car', 0.007136275855272083), ('lap recordMaro Engel', 0.00924575221567439), ('Nürburgring lap', 0.010117792005776899), ('production car Nürburgring', 0.010643432631618325), ('car lap record', 0.010659791441146356), ('Nürburgring lap recordMaro', 0.01116937729547903), ('lap record', 0.011375366420219047), ('car', 0.011398289461917404), ('Aston', 0.012867081910502115), ('car lap times', 0.013587648555085654), ('Martin', 0.01394508353181243), ('lap', 0.014072361383607759), ('Maro Engel', 0.015457811507795868), ('AMG Engine Works', 0.015604956270471789), ('car reviewMakeMakeAbarthAlfa RomeoAlpinaAlpineArielAston', 0.016216364126277322)]\n",
      "[('car reviewMakeMakeAbarthAlfa RomeoAlpinaAlpineArielAston', 0.016216364126277322), ('AMG Engine Works', 0.015604956270471789), ('Maro Engel', 0.015457811507795868), ('lap', 0.014072361383607759), ('Martin', 0.01394508353181243), ('car lap times', 0.013587648555085654), ('Aston', 0.012867081910502115), ('car', 0.011398289461917404), ('lap record', 0.011375366420219047), ('Nürburgring lap recordMaro', 0.01116937729547903), ('car lap record', 0.010659791441146356), ('production car Nürburgring', 0.010643432631618325), ('Nürburgring lap', 0.010117792005776899), ('lap recordMaro Engel', 0.00924575221567439), ('smashes production car', 0.007136275855272083), ('Nürburgring lap record', 0.005224974336299258), ('car Nürburgring lap', 0.0047203631079984), ('Aston Martin Valkyrie', 0.004161996427903687), ('AMG', 0.004038723620024365), ('Aston Martin', 0.0025968603936561492)]\n",
      "top 5 : \n",
      "car reviewMakeMakeAbarthAlfa RomeoAlpinaAlpineArielAston, AMG Engine Works, Maro Engel, lap, Martin, \n"
     ]
    }
   ],
   "source": [
    "import yake\n",
    "extractor =  yake.KeywordExtractor()\n",
    "\n",
    "keyw = extractor.extract_keywords(cleantext1)\n",
    "\n",
    "print(\"result \\n\")\n",
    "print(keyw)\n",
    "\n",
    "terurut = sorted(keyw, key=lambda tup:tup[1], reverse=True)\n",
    "print(terurut)\n",
    "\n",
    "hasil = \"\"\n",
    "no = 0\n",
    "for kw, score in terurut:\n",
    "    no = no+1\n",
    "    if(no<=5):\n",
    "        hasil += kw + \", \"\n",
    "\n",
    "print(\"top 5 : \")\n",
    "print(hasil)\n",
    "\n",
    "   \n"
   ]
  },
  {
   "attachments": {},
   "cell_type": "markdown",
   "metadata": {},
   "source": [
    "# Rake\n",
    "\n",
    "1. tokenizing kalimat terlebih dahulu\n",
    "2. hapus kata kata delimiter seperti bagaimana, dari, '?', dll.\n",
    "3. menghitung score dari keyword menggunakan Co-occurence graph (graph kemunculan bersama) dengan matrix TF-IDF \n",
    " - hitung word frequency\n",
    " - hitung word degree\n",
    "   lalu hitung score nya dengan rumus *Keyword score = (deg(w) / freq(w))*\n",
    "4. dari rumus diatas akan ada ranking setiap katanya\n",
    "\n",
    "info lengkap di\n",
    "https://misroprogramming.github.io/article-1-rake.html"
   ]
  },
  {
   "cell_type": "code",
   "execution_count": 10,
   "metadata": {},
   "outputs": [
    {
     "name": "stdout",
     "output_type": "stream",
     "text": [
      "Extraction Keyword Result : \n",
      "\n",
      "['resultsworld cuppremiershipguinness pro 12all leaguessailingsailing homethe ocean racesnookersnooker homevideoresultsworld championshipuk championshipmastersmasters predictormajor eventsspeedway gpspeedway gp homefixtures', 'garroswimbledonus openall competitionssnookersnooker homevideoresultsworld championshipuk championshipmastersmasters predictormajor eventsuci track cluci track cl homefixtures', 'resultsworld cuppremier leaguechampions leagueall competitionsall leaguesformula eformula e homefixtures', 'danmarkdeutschlanddutchespañafranceitaliamagyarországnorgeроссияpolskapolska tvn24româniatürkiyeunited kingdomhelp centremoreabout usabout eurosportmobile appslegal informationterms', 'resultsdiamond leagueworld championshipsworld indoor championshipstokyo 2020all competitionsbsbbsb homefixtures', 'resultspto touruci track cluci track cl homefixtures', 'resultsworld cuppremier leaguechampions leagueall competitionsall leaguestennistennis homecalendar', 'tracking technologies noticeeurosport pass informationmodern slavery statementcookies', 'eurosportwatchresultsfootballtennissnookerall sportssign inmenusign inhomewatchresultsmost popular sportsfootballfootball homefixtures', 'anythingall sportsolympicsolympics homevideoolympic channel tokyo 2020paralympicsrugbyrugby homefixtures', 'resultspga tourdp world tourryder cupall competitionsjudojudo homefixtures', 'resultsall sportsf1resultsrace calendarstandingsformula 1mercedes sign mick schumacher', 'anythingall sportscyclingcycling homeresultsrace calendartour de francevuelta', '32abu dhabi grand prixschumacher leaves haas', 'resultsall sportsall sportsshow allathleticsathletics homefixtures', 'garroswimbledonus openall competitionstransferstriathlontriathlon homefixtures', 'resultscyclingcycling homeresultsrace calendartour de francevuelta', 'resultstokyo 2020f1f1 homeresultsrace calendarstandingsfootballfootball homefixtures', 'abu dhabi grand prixverstappen quickest', 'abu dhabi grand prixsteiner praises', '2022 austrian grand prix .” mercedes', 'abu dhabi free practice two', 'resultstokyo 2020laver cuplaver cup homecalendar', 'perez might see ricciardo called', 'saw nyck de vries move', 'time world champion michael schumacher', 'time world champion michael schumacher', 'time world champion lewis hamilton', 'italiaall competitionswinter sportswinter sports homecalendar', '08formula 1hamilton ‘ overwhelmed ’', 'standingsuniversity sportsuniversity sports homefixtures', 'saudi arabian grand prix', 'resultswinter sportswinter sports homecalendar', '51related topicsformula 1mercedesmick schumachershare', '2023next articlefia bans drivers', 'world champion max verstappen', 'discovery company 2023 –', 'preferred duo .“ mick', 'mclaren driver daniel ricciardo', '2023 f1 seasonchange version', 'ad choices © eurosport', 'mercedes sign mick schumacher', 'last two years racing', 'amg petronas f1 team', 'amg petronas f1 team', '2022 british grand prix', '2023 f1 season begins', 'smelly dutch gp', 'smelly dutch gp', '2023 formula 1 season', '2023 formula 1 season', '2023 ,” said mercedes', '2022 drivers ’ championship', 'year .“ mick joins', 'two lead drivers', 'past two years', 'repeated hamilton crashes03', 'mate sergio perez', 'formula 1 team', 'underwhelming two seasons', 'latest newsformula 1', '41formula 1hamilton says', '2023 ,” read', 'orange f1 army', 'orange f1 army', 'leaving f1 soon29', 'w14 ,” continued', 'signed mick schumacher', 'schumacher therefore addresses', 'f1 team ’', 'useprivacy policylegal informationcookies', 'started 43 races', 'resultsf1motogpformula efia etcrready', 'resultsf1motogpformula efia etcrready', 'previous articlevasseur appointed', 'marketing duties across', 'internet connection required', 'internet connection required', 'internet connection required', 'internet connection required', 'f1 team announcemercedes', 'f1 team announce', 'american side haas', 'haas f1 team', 'age 18 +.', 'age 18 +.', 'age 18 +.', 'age 18 +.', 'mate george russell', 'ferrari team principal', 'start next season', 'mum ’ 02', 'challenging 2022 season', 'trackdartsdarts homefixtures', 'resultssuperbikessuperbikes homefixtures', 'resultsequestrianequestrian homefixtures', 'resultscalendarstandingssquashsquash homefixtures', 'resultscalendarstandingscricketcricket homefixtures', 'old australia returned', 'maiden points finish', 'conduct regular work', 'mick schumacher', 'mick schumacher', 'mick schumacher', 'mick schumacher', 'mick schumacher', 'grands prix', 'austrian gps', 'last season', 'standingsmotorsportsmotorsports homecalendar', 'resultsmotorsportsmotorsports homecalendar', 'resultscalendartabletennistennis homecalendar', 'resultscalendarrankingsfanboostgolfgolf homecalendar', 'italiaall competitionscycling', 'next season', '2023 campaign', '7mick schumacher', '2022 season', 'net season', 'says horner30', 'russell second18', 'eurosport fuels', 'eurosport app', 'eurosport app', 'eurosport app', 'eurosport app', 'british setup', 'reserve driver', 'reserve driver', 'reserve driver', 'reserve driver', 'reserve driver', 'reserve driver', 'reserve driver', 'join mercedes', 'strong drive', 'rights reserved', 'resultsaustralian openroland', 'resultsaustralian openroland', 'red bull', 'political statements', 'ongoing tension', 'ongoing development', 'never thought', 'kevin magnussen', 'harnessed trackside', 'following week', 'finished 12th', 'fans everywhereavailable', 'fans everywhereavailable', 'fans everywhereavailable', 'fans everywhereavailable', 'eighth place', 'early exits', 'different story', 'cs apply', 'cs apply', 'cs apply', 'cs apply', 'champion', 'byeurosportupdated 15', 'brackley throughout', 'best result', 'aston martin', 'articleadvertisementeurosport fuels', 'another level', 'also attend', 'alongside carrying', '49 gmt', '40formula 1verstappen', '19advertisementeurosport fuels', '04advertisementeurosport fuels', 'nico hulkenberg', 'hulkenberg gesture18', 'new role', 'march 19', 'important role', 'fight back', '’', '2023', '2023', 'schumacher', '‘', 'mick', 'lewis', 'support seven', 'haas', 'haas', 'mercedes', 'mercedes', 'mercedes', '18', 'team', 'team', 'team', 'team', 'british', '2022', '2022', '2022', '2022', '2022', '2022', '2022', 'work', 'verstappen', 'verstappen', 'points', 'old', 'move', 'move', 'move', '02', 'year', 'year', 'year', 'hulkenberg', 'support', 'role', 'role', 'back', '19', 'seven', 'seven', 'join', 'join', '“', '“', '“', 'website', 'understand', 'ultimately', 'towards', 'took', 'thursday', 'subscription', 'subscription', 'subscription', 'subscription', 'statement', 'statement', 'statement', 'standingswomen', 'standingswomen', 'stable', 'spent', 'son', 'son', 'sixth', 'simulator', 'score', 'retire', 'resultscalendarmen', 'resultscalendarmen', 'replaced', 'released', 'raced', 'raced', 'play', 'picking', 'passions', 'passions', 'passions', 'passions', 'one', 'obligations', 'mexican', 'metronome', 'market', 'making', 'linked', 'like', 'jeddah', 'international', 'international', 'internacional', 'however', 'follower', 'fantastic', 'facing', 'expected', 'español', 'españagiro', 'españagiro', 'english', 'english', 'end', 'elected', 'driving', 'dreams', 'delighted', 'delighted', 'confirm', 'confirm', 'claimed', 'career', 'backed', 'announced', 'alphatauri', 'ahead', 'address', 'absence', '49he', '33', '23', '22', '21', '202317', '2021', '20', '20', '16', '1515', '12', '12', '12', '11', '11', '11', '01', '01', '01', '00', '00', '00', '00', '00']\n",
      "\n",
      "Top 5 Rake Keywords : \n",
      "\n",
      "['resultsworld cuppremiershipguinness pro 12all leaguessailingsailing homethe ocean racesnookersnooker homevideoresultsworld championshipuk championshipmastersmasters predictormajor eventsspeedway gpspeedway gp homefixtures', 'garroswimbledonus openall competitionssnookersnooker homevideoresultsworld championshipuk championshipmastersmasters predictormajor eventsuci track cluci track cl homefixtures', 'resultsworld cuppremier leaguechampions leagueall competitionsall leaguesformula eformula e homefixtures', 'danmarkdeutschlanddutchespañafranceitaliamagyarországnorgeроссияpolskapolska tvn24româniatürkiyeunited kingdomhelp centremoreabout usabout eurosportmobile appslegal informationterms', 'resultsdiamond leagueworld championshipsworld indoor championshipstokyo 2020all competitionsbsbbsb homefixtures']\n"
     ]
    }
   ],
   "source": [
    "# import nltk\n",
    "from rake_nltk import Rake\n",
    "r = Rake()\n",
    "\n",
    "hasil=[]\n",
    "\n",
    "r.extract_keywords_from_text(cleantext2)\n",
    "rake_result = r.get_ranked_phrases()\n",
    "print(\"Extraction Keyword Result : \\n\")\n",
    "print(rake_result)\n",
    "print(\"\\nTop 5 Rake Keywords : \\n\")\n",
    "print(rake_result[:5])"
   ]
  },
  {
   "attachments": {},
   "cell_type": "markdown",
   "metadata": {},
   "source": [
    "# Text Rank"
   ]
  },
  {
   "attachments": {},
   "cell_type": "markdown",
   "metadata": {},
   "source": [
    "Step – 1: In order to find relevant terms, the Textrank algorithm creates a word network (word graph). This network is created by looking at which words are linked to one another. If two words appear frequently next to each other in the text, a link is established between them. The link is given more weight if the two words appear more frequently next to each other.\n",
    "\n",
    "Step – 2:To identify the relevance of each word, the Pagerank algorithm is applied to the formed network. The top third of each of these terms is kept and considered important. Then, if relevant terms appear in the text after one another, a keywords table is constructed by grouping them together."
   ]
  },
  {
   "cell_type": "code",
   "execution_count": 11,
   "metadata": {},
   "outputs": [
    {
     "name": "stdout",
     "output_type": "stream",
     "text": [
      "['ricciardo', 'team', 'bull', 'f', 'horner', 'opacity', 'race drivers', 'test driver', 'daniel', 'best', 'verstappen', 'sign', 'signing', 'ferrari', 'red', 'subscriptions', 'mclaren', 'marko told', 'swimsuitsi', 'volume', 'races', 'racing', 'stories', 'active', 'activities', 'activity', 'reserved', 'constitutes', 'appealing', 'character', 'characters', 'mustardsi', 'new', 'newssi', 'testing', 'romeof', 'formula', 'usprivacy', 'contentsportsnflnbamlbncaafsoccergolfncaabnhlwnbammatennisboxingolympicsracingwrestlinghigh', 'schoolsmore', 'unrivaled', 'details', 'online', 'consecutive world', 'analysis', 'secret', 'kept', 'sports', 'grand', 'profile', 'season', 'seasons', 'unapproved', 'truly', 'sincerely', 'statementsmercedes', 'si', 'email', 'christian', 'secondsvolume', 'question', 'political']\n",
      "\n",
      "Top 5 keyword \n",
      "\n",
      "ricciardo, team, bull, f, horner, \n"
     ]
    }
   ],
   "source": [
    "# import summa\n",
    "\n",
    "# path = summa.\n",
    "# print(summa.__file__)\n",
    "\n",
    "from summa import keywords\n",
    "\n",
    "keywod_result = keywords.keywords(cleantext3)\n",
    "\n",
    "keywod_result = keywod_result.split(\"\\n\")\n",
    "\n",
    "print(keywod_result)\n",
    "top5 = \"\"\n",
    "for i in range(5):\n",
    "    top5 += keywod_result[i] + \", \"\n",
    "\n",
    "print(\"\\nTop 5 keyword \\n\")\n",
    "print(top5)\n",
    "\n"
   ]
  },
  {
   "cell_type": "code",
   "execution_count": 12,
   "metadata": {},
   "outputs": [
    {
     "name": "stdout",
     "output_type": "stream",
     "text": [
      "Audi and Sauber confirm partnership from 2026 Formula 1 season | F1 News                                                                              Get Sky Sports Log In          Search                  Home    Sports      Football    F1    Cricket    Rugby Union    Rugby League    Golf    Boxing    NFL    Tennis    Racing    Darts    NBA    Netball    GAA    MMA    More Sports        Scores    Video    TV    Sky Bet    Games    More      Transfer Centre    Live on Sky    Get Sky Sports    TV Shows    TV Guide    Sky Go    Now TV    Kick It Out    Black Lives Matter    Sky Zero    Podcasts    Mobile    Twitter    Facebook    Contact Us    Work @ Sky Sports    Terms & Conditions       Watch Sky Sports                        F1   News         News       News   Video   Live   Opinion   Gossip   Drivers & Teams   Schedule & Results   Standings   Stats Zone   Get Sky F1          Audi and Sauber confirm partnership from 2026 Formula 1 season               German car manufacturer Audi announced in August they would be entering Formula 1 as a power unit supplier and have now confirmed a partnership with Sauber; the Swiss constructor currently run under the Alfa Romeo banner, but that partnership will end in 2023          Last Updated: 26/10/22 6:30pm                                    Audi and Sauber will be partners for the German marque's 2026 F1 entry                 Sauber have confirmed they will become Audi's strategic partner when the German marque enters Formula 1 in 2026.\n",
      "Please use Chrome browser for a more accessible video player      Audi to join F1 from 2026Chairman of the Audi board Markus Duesmann announces that the German car company has officially registered as a power-unit manufacturer in F1.Video Player is loading.Play Video - Audi to join F1 from 2026PlayMuteCurrent Time 0:00/Duration 1:51Loaded: 5.34%0:00Stream Type LIVESeek to live, currently behind liveLIVERemaining Time -1:51 1xPlayback RateChaptersChaptersDescriptionsdescriptions off, selectedCaptionscaptions settings, opens captions settings dialogcaptions off, selectedAudio Tracken (Main), selectedFullscreenShareThis is a modal window.Beginning of dialog window.\n",
      "This modal can be closed by pressing the Escape key or activating the close button.PlayMuteCurrent Time 0:00/Duration 0:00Loaded: 0%Stream Type LIVESeek to live, currently playing liveLIVERemaining Time -0:00 1xPlayback RatePicture-in-PictureFullscreen   Chairman of the Audi board Markus Duesmann announces that the German car company has officially registered as a power-unit manufacturer in F1       Chairman of the Audi board Markus Duesmann announces that the German car company has officially registered as a power-unit manufacturer in F1  \"To become Audi's official works team is not only an honour and a great responsibility, it's the best option for the future and we are fully confident we can help Audi achieve the objectives they have set for their journey in Formula 1.\"It is Sauber's second full works agreement after their link-up with BMW in the 2000s and owner Finn Rausing said Audi were the \"best strategic partner\" for the company.The goal now will be to return to at least the upper midfield.\n",
      "6 Redknapp: Kane masterclass | Souness: 'Mr Goals' will get them top four        7 Kane hits double, Son ends drought as Spurs thrash Palace        8 Optimism Arsenal will agree Mudryk deal | Gunners in Felix loan talks        9 Pep: We have to be perfect to beat Arsenal to PL title        10 Arsenal transfer rumours: Arteta wants more options | Nev: They need reinforcements                    Video                          Latest News                                                              Home                                            Sports                                                     Football                                                                F1                                                                Cricket                                                                Rugby Union                                                                Rugby League                                                                Golf                                                                Boxing                                                                NFL                                                                Tennis                                                                Racing                                                                Darts                                                                NBA                                                                Netball                                                                GAA                                                                MMA                                                                More Sports                                                           Scores                                                Video                                                TV                                                Sky Bet                                                Games                                            More                                                     Transfer Centre                                                                Live on Sky                                                                Get Sky Sports                                                                TV Shows                                                                TV Guide                                                                Sky Go                                                                Now TV                                                                Kick It Out                                                                Black Lives Matter                                                                Sky Zero                                                                Podcasts                                                                Mobile                                                                Twitter                                                                Facebook                                                                Contact Us                                                                Work @ Sky Sports                                                                Terms & Conditions                                             Twitter   Facebook      Sky Sports    Get Sky Sports   Sky Sports Apps   Sportinglife.com   TEAMtalk.com   Football365.com      Partners    Sky Bet   Fantasy Football   Super 6   Planet Rugby   Golf365   Planet F1   Cricket365      Sky Sports Channels    Sky Sports Main Event   Sky Sports Premier League   Sky Sports Football   Sky Sports Cricket   Sky Sports Golf   Sky Sports Racing   Sky Sports F1    Sky Sports Action   Sky Sports Arena    Sky Sports News   Sky Sports Mix      More Sky Sites    Sky.com   Sky News   Sky Group   Sky For Businesses   Work @ Sky Sports   NOW TV   Sky Communal TV   Bigger Picture   Store Locator   Advertise With Us   Sky TV Accessories         Terms & Conditions   Privacy & Cookies Notice   Privacy Options   Accessibility Information   Contact Us             ©2023 Sky UK                     \n"
     ]
    }
   ],
   "source": [
    "from summa import summarizer\n",
    "\n",
    "summa_result = summarizer.summarize(cleantext4)\n",
    "\n",
    "print(summa_result)\n"
   ]
  },
  {
   "attachments": {},
   "cell_type": "markdown",
   "metadata": {},
   "source": [
    "# KPMiner\n",
    "Not Done"
   ]
  },
  {
   "cell_type": "code",
   "execution_count": 13,
   "metadata": {},
   "outputs": [
    {
     "name": "stderr",
     "output_type": "stream",
     "text": [
      "[nltk_data] Downloading package stopwords to C:\\Users\\Vikri Muhammad\n",
      "[nltk_data]     Gafar\\AppData\\Roaming\\nltk_data...\n",
      "[nltk_data]   Package stopwords is already up-to-date!\n"
     ]
    },
    {
     "data": {
      "text/plain": [
       "<bound method LoadFile.load_document of <pke.unsupervised.statistical.kpminer.KPMiner object at 0x00000254DABD7F70>>"
      ]
     },
     "execution_count": 13,
     "metadata": {},
     "output_type": "execute_result"
    }
   ],
   "source": [
    "import pke\n",
    "import nltk\n",
    "nltk.download(\"stopwords\")\n",
    "from nltk.corpus import stopwords\n",
    "\n",
    "extractor = pke.unsupervised.KPMiner()\n",
    "\n",
    "extractor.load_document"
   ]
  },
  {
   "attachments": {},
   "cell_type": "markdown",
   "metadata": {},
   "source": [
    "# Keybert\n",
    "\n",
    "intinya ini setiap kalimat akan diubah menjadi token kemudian membandingkan token tersebut dengan token lainnya"
   ]
  },
  {
   "cell_type": "code",
   "execution_count": 14,
   "metadata": {},
   "outputs": [
    {
     "name": "stdout",
     "output_type": "stream",
     "text": [
      "Top 5 Keywords in Keybert :\n",
      "('turbocharger', 0.5198)\n",
      "('turbochargers', 0.5078)\n",
      "('turbochargersdiesel', 0.5073)\n",
      "('turbochargerscommercial', 0.4978)\n",
      "('turbochargershow', 0.4953)\n"
     ]
    }
   ],
   "source": [
    "from keybert import KeyBERT\n",
    "\n",
    "kb = KeyBERT()\n",
    "kb_result = \"\"\n",
    "kb_result = kb.extract_keywords(cleantext5)\n",
    "\n",
    "print(\"Top 5 Keywords in Keybert :\")\n",
    "for i in range(5):\n",
    "    print(kb_result[i])\n",
    "\n",
    "# print(kb_result)\n",
    "    "
   ]
  },
  {
   "attachments": {},
   "cell_type": "markdown",
   "metadata": {},
   "source": [
    "# Spacy"
   ]
  },
  {
   "attachments": {},
   "cell_type": "markdown",
   "metadata": {},
   "source": [
    "- Split the input text content by tokens\n",
    "- Extract the hot words from the token list.\n",
    "- Set the hot words as the words with pos tag “PROPN“, “ADJ“, or “NOUN“. (POS tag list is customizable)\n",
    "- Find the most common T number of hot words from the list\n",
    "- Print the results"
   ]
  },
  {
   "cell_type": "code",
   "execution_count": 18,
   "metadata": {},
   "outputs": [
    {
     "name": "stdout",
     "output_type": "stream",
     "text": [
      "Top 5 Keywords in Spacy :\n",
      "Mercedes\n",
      "-\n",
      "AMG\n",
      "One\n",
      "smashes\n"
     ]
    }
   ],
   "source": [
    "import spacy\n",
    "from spacy.lang.en.examples import sentences\n",
    "\n",
    "# nlp = spacy.load(\"en_core_web_sm\")\n",
    "nlp = spacy.load(\"en_core_web_md\")\n",
    "\n",
    "doc = nlp(cleantext1)\n",
    "\n",
    "# print(doc.text)\n",
    "\n",
    "x = 0\n",
    "\n",
    "print(\"Top 5 Keywords in Spacy :\")\n",
    "for token in doc:\n",
    "    if(x<5):\n",
    "        print(token.text)\n",
    "        x = x + 1\n",
    "    # print(token.text, token.pos_, token.dep_)\n",
    "\n",
    "\n",
    "############# RESULT #############\n",
    "# cleantext1 :\n",
    "# Top 5 Keywords in Spacy :\n",
    "# Mercedes\n",
    "# -\n",
    "# AMG\n",
    "# One\n",
    "# smashes\n",
    "############# RESULT #############\n",
    "\n",
    "\n",
    "# import spacy\n",
    "# from collections import Counter\n",
    "# from string import punctuation\n",
    "# nlp = spacy.load(\"en_core_web_sm\")\n",
    "\n",
    "# def get_hotwords(text):\n",
    "#     result = []\n",
    "#     pos_tag = ['PROPN', 'ADJ', 'NOUN'] \n",
    "#     doc = nlp(text.lower()) \n",
    "#     for token in doc:\n",
    "#         if(token.text in nlp.Defaults.stop_words or token.text in punctuation):\n",
    "#             continue\n",
    "#         if(token.pos_ in pos_tag):\n",
    "#             result.append(token.text)\n",
    "#     return result\n",
    "\n",
    "\n",
    "\n",
    "# output = set(get_hotwords(cleantext1))\n",
    "# most_common_list = Counter(output).most_common(10)\n",
    "# for item in most_common_list:\n",
    "#   print(item[0])\n",
    "\n",
    "#################### RESULT ######################\n",
    "# cleantext1 :\n",
    "# torque\n",
    "# clever\n",
    "# engines\n",
    "# figure\n",
    "# literal\n",
    "# vertical\n",
    "# wheel\n",
    "# 2500rpm\n",
    "# pure\n",
    "# heat\n",
    "#################### RESULT ######################\n"
   ]
  }
 ],
 "metadata": {
  "kernelspec": {
   "display_name": "Python 3",
   "language": "python",
   "name": "python3"
  },
  "language_info": {
   "codemirror_mode": {
    "name": "ipython",
    "version": 3
   },
   "file_extension": ".py",
   "mimetype": "text/x-python",
   "name": "python",
   "nbconvert_exporter": "python",
   "pygments_lexer": "ipython3",
   "version": "3.9.0"
  },
  "orig_nbformat": 4,
  "vscode": {
   "interpreter": {
    "hash": "998733315223f77547cf1ef25a69a3d81aafdd9d1d417613594930971413ccd6"
   }
  }
 },
 "nbformat": 4,
 "nbformat_minor": 2
}
